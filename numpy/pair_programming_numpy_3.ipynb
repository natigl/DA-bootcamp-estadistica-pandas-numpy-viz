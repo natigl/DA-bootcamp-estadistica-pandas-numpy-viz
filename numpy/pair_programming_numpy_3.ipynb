{
 "cells": [
  {
   "attachments": {},
   "cell_type": "markdown",
   "metadata": {},
   "source": [
    "## NUMPY III: Operaciones estadísticas y matemáticas\n",
    "---"
   ]
  },
  {
   "cell_type": "code",
   "execution_count": 21,
   "metadata": {},
   "outputs": [],
   "source": [
    "import numpy as np \n",
    "import random "
   ]
  },
  {
   "attachments": {},
   "cell_type": "markdown",
   "metadata": {},
   "source": [
    "**EJERCICIO 1**\n",
    "\n",
    "Cread un array de tres dimensiones de 2 matrices, 3 filas y 5 columnas cuyos valores solo tengan 1 decimales. \n",
    "\n",
    "Sobre el array creado anteriormente, extraed:"
   ]
  },
  {
   "cell_type": "code",
   "execution_count": 22,
   "metadata": {},
   "outputs": [],
   "source": [
    "array = np.random.rand(2,3,5)\n",
    "array = array.round(1)"
   ]
  },
  {
   "cell_type": "code",
   "execution_count": 23,
   "metadata": {},
   "outputs": [
    {
     "data": {
      "text/plain": [
       "array([[[0.6, 0.2, 0.4, 0.9, 0.1],\n",
       "        [0. , 0.1, 0.7, 0.9, 0.8],\n",
       "        [0.6, 0.7, 0.2, 0.8, 0.8]],\n",
       "\n",
       "       [[0.5, 0.8, 0.5, 1. , 0.6],\n",
       "        [0.5, 0.6, 0.5, 0.6, 0. ],\n",
       "        [0.6, 0. , 0.7, 0.5, 0.9]]])"
      ]
     },
     "execution_count": 23,
     "metadata": {},
     "output_type": "execute_result"
    }
   ],
   "source": [
    "array"
   ]
  },
  {
   "attachments": {},
   "cell_type": "markdown",
   "metadata": {},
   "source": [
    "---"
   ]
  },
  {
   "attachments": {},
   "cell_type": "markdown",
   "metadata": {},
   "source": [
    "**EJERCICIO 2** \n",
    "\n",
    "Calculad la media del array y almacenarlos en una variable. Redondead a un decimal."
   ]
  },
  {
   "cell_type": "code",
   "execution_count": 24,
   "metadata": {},
   "outputs": [
    {
     "data": {
      "text/plain": [
       "0.5"
      ]
     },
     "execution_count": 24,
     "metadata": {},
     "output_type": "execute_result"
    }
   ],
   "source": [
    "media = np.round(np.mean(array), decimals = 1)\n",
    "media "
   ]
  },
  {
   "attachments": {},
   "cell_type": "markdown",
   "metadata": {},
   "source": [
    "**EJERCICIO 3**  \n",
    "\n",
    "Calculad el valor máximo del array y almacenarlos en una variable. Redondead a un decimal."
   ]
  },
  {
   "cell_type": "code",
   "execution_count": 25,
   "metadata": {},
   "outputs": [
    {
     "data": {
      "text/plain": [
       "1.0"
      ]
     },
     "execution_count": 25,
     "metadata": {},
     "output_type": "execute_result"
    }
   ],
   "source": [
    "maximo = np.round(np.max(array), decimals = 1)\n",
    "maximo"
   ]
  },
  {
   "attachments": {},
   "cell_type": "markdown",
   "metadata": {},
   "source": [
    "---"
   ]
  },
  {
   "attachments": {},
   "cell_type": "markdown",
   "metadata": {},
   "source": [
    "**EJERCICIO 4**\n",
    "\n",
    "Calculad el valor mínimo del array y almacenarlos en una variable. Redondead a un decimal."
   ]
  },
  {
   "cell_type": "code",
   "execution_count": 26,
   "metadata": {},
   "outputs": [
    {
     "data": {
      "text/plain": [
       "0.0"
      ]
     },
     "execution_count": 26,
     "metadata": {},
     "output_type": "execute_result"
    }
   ],
   "source": [
    "minimo = np.round(np.min(array), decimals = 1)\n",
    "minimo "
   ]
  },
  {
   "attachments": {},
   "cell_type": "markdown",
   "metadata": {},
   "source": [
    "---"
   ]
  },
  {
   "attachments": {},
   "cell_type": "markdown",
   "metadata": {},
   "source": [
    "**EJERCICIO 5** \n",
    "\n",
    "Cread un array vacío con la misma forma y dimensiones que el array creado anteriormente.\n",
    "\n",
    "Vamos a reemplazar los valores de la matriz vacía que nos acabamos de crear pero basándonos en los valores del primer array bajo las siguientes condiciones:"
   ]
  },
  {
   "cell_type": "code",
   "execution_count": 27,
   "metadata": {},
   "outputs": [
    {
     "data": {
      "text/plain": [
       "array([[['', '', '', '', ''],\n",
       "        ['', '', '', '', ''],\n",
       "        ['', '', '', '', '']],\n",
       "\n",
       "       [['', '', '', '', ''],\n",
       "        ['', '', '', '', ''],\n",
       "        ['', '', '', '', '']]], dtype='<U1')"
      ]
     },
     "execution_count": 27,
     "metadata": {},
     "output_type": "execute_result"
    }
   ],
   "source": [
    "array2 = np.empty_like(array, dtype= str)\n",
    "array2"
   ]
  },
  {
   "attachments": {},
   "cell_type": "markdown",
   "metadata": {},
   "source": [
    "Si el valor del array es igual que la media, se reemplaza por \"A\".\n",
    "\n",
    "\n",
    "Si el valor del array es mayor que la media, se reemplaza por \"B\".\n",
    "\n",
    "\n",
    "Si el valor del array es menor que la media, se reemplaza por \"C\".\n",
    "\n",
    "\n",
    "Si el valor es igual que el máximo, se reemplaza por \"D\".\n",
    "\n",
    "\n",
    "Si el valor es igual que el mínimo, se reemplaza por \"E\".\n",
    "\n",
    "💡 Pista 💡 Tendréis que iterar por el array y cambiar los valores de la matriz vacía. Para eso tendremos que usar distintos condicionales."
   ]
  },
  {
   "cell_type": "code",
   "execution_count": 28,
   "metadata": {},
   "outputs": [
    {
     "data": {
      "text/plain": [
       "(2, 3, 5)"
      ]
     },
     "execution_count": 28,
     "metadata": {},
     "output_type": "execute_result"
    }
   ],
   "source": [
    "array.shape"
   ]
  },
  {
   "cell_type": "code",
   "execution_count": 29,
   "metadata": {},
   "outputs": [
    {
     "name": "stdout",
     "output_type": "stream",
     "text": [
      "[[['B' 'C' 'C' 'B' 'C']\n",
      "  ['C' 'C' 'B' 'B' 'B']\n",
      "  ['B' 'B' 'C' 'B' 'B']]\n",
      "\n",
      " [['A' 'B' 'A' 'B' 'B']\n",
      "  ['A' 'B' 'A' 'B' 'C']\n",
      "  ['B' 'C' 'B' 'A' 'B']]]\n"
     ]
    }
   ],
   "source": [
    "# Iteramos para sacar todos los posibles de un array tridimensional [0][1][2] en array.shape\n",
    "\n",
    "for arr in range(array.shape[0]):\n",
    "    for fila in range(array.shape[1]):\n",
    "        for columna in range(array.shape[2]):\n",
    "            if array[arr,fila, columna] == media:\n",
    "                array2[arr, fila, columna] = \"A\"\n",
    "            elif array[arr,fila, columna] > media:\n",
    "                array2[arr, fila, columna] = \"B\"\n",
    "            elif array[arr,fila, columna] < media:\n",
    "                array2[arr, fila, columna] = \"C\"\n",
    "            elif array[arr,fila, columna] == maximo:\n",
    "                array2[arr, fila, columna] = \"D\"\n",
    "            elif array[arr,fila, columna] == minimo:\n",
    "                array2[arr, fila, columna] = \"E\"\n",
    "print(array2)"
   ]
  },
  {
   "attachments": {},
   "cell_type": "markdown",
   "metadata": {},
   "source": [
    "---"
   ]
  },
  {
   "attachments": {},
   "cell_type": "markdown",
   "metadata": {},
   "source": [
    "**EJERCICIO 6**\n",
    "\n",
    "Estupendo, tenemos un array con strings. \n",
    "\n",
    "Ahora realizaremos un ejercicio similar al anterior, pero en este caso nos crearemos un array vacío unidimensional de 30 elementos. \n",
    "\n",
    "Al final de este ejercicio acabaremos teniendo un array de tres dimensiones con la misma forma que el primero que nos creamos.\n",
    "\n",
    "\n",
    "En este caso:\n",
    "\n",
    "\n",
    "Si el valor del array creado en el ejercicio anterior es \"A\" o \"B\" lo reemplazaremos por 1\n",
    "\n",
    "\n",
    "Si el valor del array creado en el ejercicio anterior es \"C\" o \"D\" lo reemplazaremos por 2\n",
    "\n",
    "\n",
    "Si el valor del array creado en el ejercicio anterior es \"E\" lo reemplazaremos por 3.\n",
    "\n",
    "\n",
    "Una vez que hayas reemplazado todos los valores cambiad la forma del array para que sea de tres dimensiones, con 2 matrices, 3 filas y 5 columnas."
   ]
  },
  {
   "cell_type": "code",
   "execution_count": 30,
   "metadata": {},
   "outputs": [
    {
     "data": {
      "text/plain": [
       "array([[['B', 'C', 'C', 'B', 'C'],\n",
       "        ['C', 'C', 'B', 'B', 'B'],\n",
       "        ['B', 'B', 'C', 'B', 'B']],\n",
       "\n",
       "       [['A', 'B', 'A', 'B', 'B'],\n",
       "        ['A', 'B', 'A', 'B', 'C'],\n",
       "        ['B', 'C', 'B', 'A', 'B']]], dtype='<U1')"
      ]
     },
     "execution_count": 30,
     "metadata": {},
     "output_type": "execute_result"
    }
   ],
   "source": [
    "array2"
   ]
  },
  {
   "cell_type": "code",
   "execution_count": 31,
   "metadata": {},
   "outputs": [
    {
     "data": {
      "text/plain": [
       "array([0.6, 0.2, 0.4, 0.9, 0.1, 0. , 0.1, 0.7, 0.9, 0.8, 0.6, 0.7, 0.2,\n",
       "       0.8, 0.8, 0.5, 0.8, 0.5, 1. , 0.6, 0.5, 0.6, 0.5, 0.6, 0. , 0.6,\n",
       "       0. , 0.7, 0.5, 0.9])"
      ]
     },
     "execution_count": 31,
     "metadata": {},
     "output_type": "execute_result"
    }
   ],
   "source": [
    "# Creamos un array vacio de 30 elementos y una sola dimensión especificar el numero de elementos con np.empty\n",
    "\n",
    "array_vacio = np.empty(30)\n",
    "array_vacio"
   ]
  },
  {
   "cell_type": "code",
   "execution_count": 39,
   "metadata": {},
   "outputs": [
    {
     "data": {
      "text/plain": [
       "array(['B', 'C', 'C', 'B', 'C', 'C', 'C', 'B', 'B', 'B', 'B', 'B', 'C',\n",
       "       'B', 'B', 'A', 'B', 'A', 'B', 'B', 'A', 'B', 'A', 'B', 'C', 'B',\n",
       "       'C', 'B', 'A', 'B'], dtype='<U1')"
      ]
     },
     "execution_count": 39,
     "metadata": {},
     "output_type": "execute_result"
    }
   ],
   "source": [
    "# Cambiamos la forma al array_vacio a uno unidimensional de 30, igual que el anterior\n",
    "array30 = np.reshape(array2,(30)) \n",
    "array30"
   ]
  },
  {
   "cell_type": "code",
   "execution_count": 36,
   "metadata": {},
   "outputs": [],
   "source": [
    "# Iteramos por los indices del array30 (por los números en el rango de 0 a la longitud del array)\n",
    "# Creamos las condiciones para que para cada indice sustituya las letras por los números indicados.\n",
    "\n",
    "for i in range(len(array30)): \n",
    "    if array30[i] =='A' or  array30[i] == 'B': \n",
    "        array_vacio[i] = 1\n",
    "    if array30[i] =='C' or array30[i] =='D':\n",
    "        array_vacio[i] = 2\n",
    "    if array30[i] =='E' :\n",
    "        array_vacio[i] = 3"
   ]
  },
  {
   "cell_type": "code",
   "execution_count": 37,
   "metadata": {},
   "outputs": [
    {
     "data": {
      "text/plain": [
       "array([1., 2., 2., 1., 2., 2., 2., 1., 1., 1., 1., 1., 2., 1., 1., 1., 1.,\n",
       "       1., 1., 1., 1., 1., 1., 1., 2., 1., 2., 1., 1., 1.])"
      ]
     },
     "execution_count": 37,
     "metadata": {},
     "output_type": "execute_result"
    }
   ],
   "source": [
    "array_vacio"
   ]
  },
  {
   "cell_type": "code",
   "execution_count": 38,
   "metadata": {},
   "outputs": [
    {
     "data": {
      "text/plain": [
       "array([[[1., 2., 2., 1., 2.],\n",
       "        [2., 2., 1., 1., 1.],\n",
       "        [1., 1., 2., 1., 1.]],\n",
       "\n",
       "       [[1., 1., 1., 1., 1.],\n",
       "        [1., 1., 1., 1., 2.],\n",
       "        [1., 2., 1., 1., 1.]]])"
      ]
     },
     "execution_count": 38,
     "metadata": {},
     "output_type": "execute_result"
    }
   ],
   "source": [
    "# Cambiamos la forma del array a la forma original para que sea de tridimensional, con 2 matrices, 3 filas y 5 columnas.\n",
    "\n",
    "array_final = np.reshape(array_vacio,(2,3,5))\n",
    "array_final"
   ]
  }
 ],
 "metadata": {
  "kernelspec": {
   "display_name": "base",
   "language": "python",
   "name": "python3"
  },
  "language_info": {
   "codemirror_mode": {
    "name": "ipython",
    "version": 3
   },
   "file_extension": ".py",
   "mimetype": "text/x-python",
   "name": "python",
   "nbconvert_exporter": "python",
   "pygments_lexer": "ipython3",
   "version": "3.9.7"
  },
  "orig_nbformat": 4,
  "vscode": {
   "interpreter": {
    "hash": "ebacf0c690606339d2819fda86ce84d5dc8f19bdafd30d1cf039ac39003e3ee9"
   }
  }
 },
 "nbformat": 4,
 "nbformat_minor": 2
}
